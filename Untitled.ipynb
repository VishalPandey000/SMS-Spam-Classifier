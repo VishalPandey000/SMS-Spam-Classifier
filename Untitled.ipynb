{
 "cells": [
  {
   "cell_type": "code",
   "execution_count": 1,
   "id": "7cc2c86c-6edf-4842-9743-160022fa4cda",
   "metadata": {},
   "outputs": [
    {
     "name": "stdout",
     "output_type": "stream",
     "text": [
      "Requirement already satisfied: numpy in c:\\users\\puran\\appdata\\local\\programs\\python\\python313\\lib\\site-packages (2.1.2)\n",
      "Note: you may need to restart the kernel to use updated packages.\n"
     ]
    }
   ],
   "source": [
    "pip install numpy"
   ]
  },
  {
   "cell_type": "code",
   "execution_count": 2,
   "id": "ad46de4c-4087-4113-8dda-f15666e43ed4",
   "metadata": {},
   "outputs": [
    {
     "name": "stdout",
     "output_type": "stream",
     "text": [
      "Requirement already satisfied: pandas in c:\\users\\puran\\appdata\\local\\programs\\python\\python313\\lib\\site-packages (2.2.3)Note: you may need to restart the kernel to use updated packages.\n",
      "\n",
      "Requirement already satisfied: numpy>=1.26.0 in c:\\users\\puran\\appdata\\local\\programs\\python\\python313\\lib\\site-packages (from pandas) (2.1.2)\n",
      "Requirement already satisfied: python-dateutil>=2.8.2 in c:\\users\\puran\\appdata\\local\\programs\\python\\python313\\lib\\site-packages (from pandas) (2.9.0.post0)\n",
      "Requirement already satisfied: pytz>=2020.1 in c:\\users\\puran\\appdata\\local\\programs\\python\\python313\\lib\\site-packages (from pandas) (2024.2)\n",
      "Requirement already satisfied: tzdata>=2022.7 in c:\\users\\puran\\appdata\\local\\programs\\python\\python313\\lib\\site-packages (from pandas) (2024.2)\n",
      "Requirement already satisfied: six>=1.5 in c:\\users\\puran\\appdata\\local\\programs\\python\\python313\\lib\\site-packages (from python-dateutil>=2.8.2->pandas) (1.16.0)\n"
     ]
    }
   ],
   "source": [
    "pip install pandas"
   ]
  },
  {
   "cell_type": "code",
   "execution_count": 3,
   "id": "e18b58ca-15bc-4018-a1a0-f88f2c711f1f",
   "metadata": {},
   "outputs": [
    {
     "name": "stdout",
     "output_type": "stream",
     "text": [
      "Collecting matplotlibNote: you may need to restart the kernel to use updated packages.\n",
      "\n",
      "  Downloading matplotlib-3.9.2-cp313-cp313-win_amd64.whl.metadata (11 kB)\n",
      "Collecting contourpy>=1.0.1 (from matplotlib)\n",
      "  Downloading contourpy-1.3.1-cp313-cp313-win_amd64.whl.metadata (5.4 kB)\n",
      "Collecting cycler>=0.10 (from matplotlib)\n",
      "  Downloading cycler-0.12.1-py3-none-any.whl.metadata (3.8 kB)\n",
      "Collecting fonttools>=4.22.0 (from matplotlib)\n",
      "  Downloading fonttools-4.55.0-cp313-cp313-win_amd64.whl.metadata (167 kB)\n",
      "Collecting kiwisolver>=1.3.1 (from matplotlib)\n",
      "  Downloading kiwisolver-1.4.7-cp313-cp313-win_amd64.whl.metadata (6.4 kB)\n",
      "Requirement already satisfied: numpy>=1.23 in c:\\users\\puran\\appdata\\local\\programs\\python\\python313\\lib\\site-packages (from matplotlib) (2.1.2)\n",
      "Requirement already satisfied: packaging>=20.0 in c:\\users\\puran\\appdata\\local\\programs\\python\\python313\\lib\\site-packages (from matplotlib) (24.1)\n",
      "Requirement already satisfied: pillow>=8 in c:\\users\\puran\\appdata\\local\\programs\\python\\python313\\lib\\site-packages (from matplotlib) (10.4.0)\n",
      "Collecting pyparsing>=2.3.1 (from matplotlib)\n",
      "  Downloading pyparsing-3.2.0-py3-none-any.whl.metadata (5.0 kB)\n",
      "Requirement already satisfied: python-dateutil>=2.7 in c:\\users\\puran\\appdata\\local\\programs\\python\\python313\\lib\\site-packages (from matplotlib) (2.9.0.post0)\n",
      "Requirement already satisfied: six>=1.5 in c:\\users\\puran\\appdata\\local\\programs\\python\\python313\\lib\\site-packages (from python-dateutil>=2.7->matplotlib) (1.16.0)\n",
      "Downloading matplotlib-3.9.2-cp313-cp313-win_amd64.whl (7.8 MB)\n",
      "   ---------------------------------------- 0.0/7.8 MB ? eta -:--:--\n",
      "   - -------------------------------------- 0.3/7.8 MB ? eta -:--:--\n",
      "   ------ --------------------------------- 1.3/7.8 MB 4.4 MB/s eta 0:00:02\n",
      "   --------- ------------------------------ 1.8/7.8 MB 3.5 MB/s eta 0:00:02\n",
      "   ------------ --------------------------- 2.4/7.8 MB 3.3 MB/s eta 0:00:02\n",
      "   ---------------- ----------------------- 3.1/7.8 MB 3.3 MB/s eta 0:00:02\n",
      "   -------------------- ------------------- 3.9/7.8 MB 3.4 MB/s eta 0:00:02\n",
      "   ---------------------- ----------------- 4.5/7.8 MB 3.6 MB/s eta 0:00:01\n",
      "   ------------------------- -------------- 5.0/7.8 MB 3.2 MB/s eta 0:00:01\n",
      "   ---------------------------- ----------- 5.5/7.8 MB 3.1 MB/s eta 0:00:01\n",
      "   ---------------------------- ----------- 5.5/7.8 MB 3.1 MB/s eta 0:00:01\n",
      "   -------------------------------- ------- 6.3/7.8 MB 2.9 MB/s eta 0:00:01\n",
      "   ------------------------------------- -- 7.3/7.8 MB 3.0 MB/s eta 0:00:01\n",
      "   ---------------------------------------- 7.8/7.8 MB 3.0 MB/s eta 0:00:00\n",
      "Downloading contourpy-1.3.1-cp313-cp313-win_amd64.whl (220 kB)\n",
      "Downloading cycler-0.12.1-py3-none-any.whl (8.3 kB)\n",
      "Downloading fonttools-4.55.0-cp313-cp313-win_amd64.whl (2.2 MB)\n",
      "   ---------------------------------------- 0.0/2.2 MB ? eta -:--:--\n",
      "   -------------- ------------------------- 0.8/2.2 MB 4.0 MB/s eta 0:00:01\n",
      "   ---------------------------- ----------- 1.6/2.2 MB 4.6 MB/s eta 0:00:01\n",
      "   ---------------------------------------- 2.2/2.2 MB 4.0 MB/s eta 0:00:00\n",
      "Downloading kiwisolver-1.4.7-cp313-cp313-win_amd64.whl (55 kB)\n",
      "Downloading pyparsing-3.2.0-py3-none-any.whl (106 kB)\n",
      "Installing collected packages: pyparsing, kiwisolver, fonttools, cycler, contourpy, matplotlib\n",
      "Successfully installed contourpy-1.3.1 cycler-0.12.1 fonttools-4.55.0 kiwisolver-1.4.7 matplotlib-3.9.2 pyparsing-3.2.0\n"
     ]
    }
   ],
   "source": [
    "pip install matplotlib"
   ]
  },
  {
   "cell_type": "code",
   "execution_count": 5,
   "id": "3a6e2e50-8ff4-4115-9cea-17b2dfd47653",
   "metadata": {},
   "outputs": [
    {
     "name": "stdout",
     "output_type": "stream",
     "text": [
      "Requirement already satisfied: nltk in c:\\users\\puran\\appdata\\local\\programs\\python\\python313\\lib\\site-packages (3.9.1)\n",
      "Requirement already satisfied: click in c:\\users\\puran\\appdata\\local\\programs\\python\\python313\\lib\\site-packages (from nltk) (8.1.7)\n",
      "Requirement already satisfied: joblib in c:\\users\\puran\\appdata\\local\\programs\\python\\python313\\lib\\site-packages (from nltk) (1.4.2)\n",
      "Requirement already satisfied: regex>=2021.8.3 in c:\\users\\puran\\appdata\\local\\programs\\python\\python313\\lib\\site-packages (from nltk) (2024.9.11)\n",
      "Requirement already satisfied: tqdm in c:\\users\\puran\\appdata\\local\\programs\\python\\python313\\lib\\site-packages (from nltk) (4.66.6)\n",
      "Requirement already satisfied: colorama in c:\\users\\puran\\appdata\\local\\programs\\python\\python313\\lib\\site-packages (from click->nltk) (0.4.6)\n",
      "Note: you may need to restart the kernel to use updated packages.\n"
     ]
    }
   ],
   "source": [
    "pip install nltk"
   ]
  },
  {
   "cell_type": "code",
   "execution_count": 1,
   "id": "f3dd16ea-1b39-42b0-ba5c-7c6af2899a5b",
   "metadata": {},
   "outputs": [
    {
     "name": "stdout",
     "output_type": "stream",
     "text": [
      "Collecting seaborn\n",
      "  Downloading seaborn-0.13.2-py3-none-any.whl.metadata (5.4 kB)\n",
      "Requirement already satisfied: numpy!=1.24.0,>=1.20 in c:\\users\\puran\\appdata\\local\\programs\\python\\python313\\lib\\site-packages (from seaborn) (2.1.2)\n",
      "Requirement already satisfied: pandas>=1.2 in c:\\users\\puran\\appdata\\local\\programs\\python\\python313\\lib\\site-packages (from seaborn) (2.2.3)\n",
      "Requirement already satisfied: matplotlib!=3.6.1,>=3.4 in c:\\users\\puran\\appdata\\local\\programs\\python\\python313\\lib\\site-packages (from seaborn) (3.9.2)\n",
      "Requirement already satisfied: contourpy>=1.0.1 in c:\\users\\puran\\appdata\\local\\programs\\python\\python313\\lib\\site-packages (from matplotlib!=3.6.1,>=3.4->seaborn) (1.3.1)\n",
      "Requirement already satisfied: cycler>=0.10 in c:\\users\\puran\\appdata\\local\\programs\\python\\python313\\lib\\site-packages (from matplotlib!=3.6.1,>=3.4->seaborn) (0.12.1)\n",
      "Requirement already satisfied: fonttools>=4.22.0 in c:\\users\\puran\\appdata\\local\\programs\\python\\python313\\lib\\site-packages (from matplotlib!=3.6.1,>=3.4->seaborn) (4.55.0)\n",
      "Requirement already satisfied: kiwisolver>=1.3.1 in c:\\users\\puran\\appdata\\local\\programs\\python\\python313\\lib\\site-packages (from matplotlib!=3.6.1,>=3.4->seaborn) (1.4.7)\n",
      "Requirement already satisfied: packaging>=20.0 in c:\\users\\puran\\appdata\\local\\programs\\python\\python313\\lib\\site-packages (from matplotlib!=3.6.1,>=3.4->seaborn) (24.1)\n",
      "Requirement already satisfied: pillow>=8 in c:\\users\\puran\\appdata\\local\\programs\\python\\python313\\lib\\site-packages (from matplotlib!=3.6.1,>=3.4->seaborn) (10.4.0)\n",
      "Requirement already satisfied: pyparsing>=2.3.1 in c:\\users\\puran\\appdata\\local\\programs\\python\\python313\\lib\\site-packages (from matplotlib!=3.6.1,>=3.4->seaborn) (3.2.0)\n",
      "Requirement already satisfied: python-dateutil>=2.7 in c:\\users\\puran\\appdata\\local\\programs\\python\\python313\\lib\\site-packages (from matplotlib!=3.6.1,>=3.4->seaborn) (2.9.0.post0)\n",
      "Requirement already satisfied: pytz>=2020.1 in c:\\users\\puran\\appdata\\local\\programs\\python\\python313\\lib\\site-packages (from pandas>=1.2->seaborn) (2024.2)\n",
      "Requirement already satisfied: tzdata>=2022.7 in c:\\users\\puran\\appdata\\local\\programs\\python\\python313\\lib\\site-packages (from pandas>=1.2->seaborn) (2024.2)\n",
      "Requirement already satisfied: six>=1.5 in c:\\users\\puran\\appdata\\local\\programs\\python\\python313\\lib\\site-packages (from python-dateutil>=2.7->matplotlib!=3.6.1,>=3.4->seaborn) (1.16.0)\n",
      "Downloading seaborn-0.13.2-py3-none-any.whl (294 kB)\n",
      "Installing collected packages: seaborn\n",
      "Successfully installed seaborn-0.13.2\n",
      "Note: you may need to restart the kernel to use updated packages.\n"
     ]
    }
   ],
   "source": [
    "pip install seaborn"
   ]
  },
  {
   "cell_type": "code",
   "execution_count": 1,
   "id": "b14a4dcf-26f0-43c7-9a9c-71d9232db559",
   "metadata": {},
   "outputs": [
    {
     "name": "stdout",
     "output_type": "stream",
     "text": [
      "Note: you may need to restart the kernel to use updated packages.\n"
     ]
    },
    {
     "name": "stderr",
     "output_type": "stream",
     "text": [
      "ERROR: Could not find a version that satisfies the requirement string (from versions: none)\n",
      "ERROR: No matching distribution found for string\n"
     ]
    }
   ],
   "source": [
    "pip install string"
   ]
  },
  {
   "cell_type": "code",
   "execution_count": 2,
   "id": "226a35ae-1402-4699-93bb-83313ba5d36d",
   "metadata": {},
   "outputs": [
    {
     "name": "stdout",
     "output_type": "stream",
     "text": [
      "Collecting wordcloudNote: you may need to restart the kernel to use updated packages.\n",
      "\n",
      "  Downloading wordcloud-1.9.4-cp313-cp313-win_amd64.whl.metadata (3.5 kB)\n",
      "Requirement already satisfied: numpy>=1.6.1 in c:\\users\\puran\\appdata\\local\\programs\\python\\python313\\lib\\site-packages (from wordcloud) (2.1.2)\n",
      "Requirement already satisfied: pillow in c:\\users\\puran\\appdata\\local\\programs\\python\\python313\\lib\\site-packages (from wordcloud) (10.4.0)\n",
      "Requirement already satisfied: matplotlib in c:\\users\\puran\\appdata\\local\\programs\\python\\python313\\lib\\site-packages (from wordcloud) (3.9.2)\n",
      "Requirement already satisfied: contourpy>=1.0.1 in c:\\users\\puran\\appdata\\local\\programs\\python\\python313\\lib\\site-packages (from matplotlib->wordcloud) (1.3.1)\n",
      "Requirement already satisfied: cycler>=0.10 in c:\\users\\puran\\appdata\\local\\programs\\python\\python313\\lib\\site-packages (from matplotlib->wordcloud) (0.12.1)\n",
      "Requirement already satisfied: fonttools>=4.22.0 in c:\\users\\puran\\appdata\\local\\programs\\python\\python313\\lib\\site-packages (from matplotlib->wordcloud) (4.55.0)\n",
      "Requirement already satisfied: kiwisolver>=1.3.1 in c:\\users\\puran\\appdata\\local\\programs\\python\\python313\\lib\\site-packages (from matplotlib->wordcloud) (1.4.7)\n",
      "Requirement already satisfied: packaging>=20.0 in c:\\users\\puran\\appdata\\local\\programs\\python\\python313\\lib\\site-packages (from matplotlib->wordcloud) (24.1)\n",
      "Requirement already satisfied: pyparsing>=2.3.1 in c:\\users\\puran\\appdata\\local\\programs\\python\\python313\\lib\\site-packages (from matplotlib->wordcloud) (3.2.0)\n",
      "Requirement already satisfied: python-dateutil>=2.7 in c:\\users\\puran\\appdata\\local\\programs\\python\\python313\\lib\\site-packages (from matplotlib->wordcloud) (2.9.0.post0)\n",
      "Requirement already satisfied: six>=1.5 in c:\\users\\puran\\appdata\\local\\programs\\python\\python313\\lib\\site-packages (from python-dateutil>=2.7->matplotlib->wordcloud) (1.16.0)\n",
      "Downloading wordcloud-1.9.4-cp313-cp313-win_amd64.whl (300 kB)\n",
      "Installing collected packages: wordcloud\n",
      "Successfully installed wordcloud-1.9.4\n"
     ]
    }
   ],
   "source": [
    "pip install wordcloud"
   ]
  },
  {
   "cell_type": "code",
   "execution_count": 3,
   "id": "362905a5-6709-49c0-a8de-70ce50bb2c83",
   "metadata": {},
   "outputs": [
    {
     "name": "stdout",
     "output_type": "stream",
     "text": [
      "Note: you may need to restart the kernel to use updated packages.\n"
     ]
    },
    {
     "name": "stderr",
     "output_type": "stream",
     "text": [
      "ERROR: Could not find a version that satisfies the requirement collections (from versions: none)\n",
      "ERROR: No matching distribution found for collections\n"
     ]
    }
   ],
   "source": [
    "pip install collections"
   ]
  },
  {
   "cell_type": "code",
   "execution_count": 1,
   "id": "4c758b9b-1b28-4749-824c-bcb9db9395f9",
   "metadata": {},
   "outputs": [
    {
     "name": "stdout",
     "output_type": "stream",
     "text": [
      "Collecting xgboost\n",
      "  Downloading xgboost-2.1.2-py3-none-win_amd64.whl.metadata (2.1 kB)\n",
      "Requirement already satisfied: numpy in c:\\users\\puran\\appdata\\local\\programs\\python\\python313\\lib\\site-packages (from xgboost) (2.1.2)\n",
      "Requirement already satisfied: scipy in c:\\users\\puran\\appdata\\local\\programs\\python\\python313\\lib\\site-packages (from xgboost) (1.14.1)\n",
      "Downloading xgboost-2.1.2-py3-none-win_amd64.whl (124.9 MB)\n",
      "   ---------------------------------------- 0.0/124.9 MB ? eta -:--:--\n",
      "   ---------------------------------------- 0.3/124.9 MB ? eta -:--:--\n",
      "   ---------------------------------------- 0.5/124.9 MB 1.5 MB/s eta 0:01:22\n",
      "   ---------------------------------------- 0.8/124.9 MB 1.5 MB/s eta 0:01:25\n",
      "   ---------------------------------------- 1.0/124.9 MB 1.2 MB/s eta 0:01:40\n",
      "   ---------------------------------------- 1.3/124.9 MB 1.3 MB/s eta 0:01:38\n",
      "    --------------------------------------- 1.6/124.9 MB 1.3 MB/s eta 0:01:38\n",
      "    --------------------------------------- 1.6/124.9 MB 1.3 MB/s eta 0:01:38\n",
      "    --------------------------------------- 1.8/124.9 MB 1.2 MB/s eta 0:01:44\n",
      "    --------------------------------------- 1.8/124.9 MB 1.2 MB/s eta 0:01:44\n",
      "    --------------------------------------- 2.1/124.9 MB 1.0 MB/s eta 0:01:58\n",
      "    --------------------------------------- 2.4/124.9 MB 1.0 MB/s eta 0:02:00\n",
      "    --------------------------------------- 2.4/124.9 MB 1.0 MB/s eta 0:02:00\n",
      "    --------------------------------------- 2.6/124.9 MB 967.0 kB/s eta 0:02:07\n",
      "    --------------------------------------- 2.6/124.9 MB 967.0 kB/s eta 0:02:07\n",
      "    --------------------------------------- 2.9/124.9 MB 941.1 kB/s eta 0:02:10\n",
      "    --------------------------------------- 2.9/124.9 MB 941.1 kB/s eta 0:02:10\n",
      "   - -------------------------------------- 3.1/124.9 MB 892.8 kB/s eta 0:02:17\n",
      "   - -------------------------------------- 3.1/124.9 MB 892.8 kB/s eta 0:02:17\n",
      "   - -------------------------------------- 3.4/124.9 MB 875.7 kB/s eta 0:02:19\n",
      "   - -------------------------------------- 3.7/124.9 MB 868.3 kB/s eta 0:02:20\n",
      "   - -------------------------------------- 3.7/124.9 MB 868.3 kB/s eta 0:02:20\n",
      "   - -------------------------------------- 3.9/124.9 MB 857.1 kB/s eta 0:02:22\n",
      "   - -------------------------------------- 3.9/124.9 MB 857.1 kB/s eta 0:02:22\n",
      "   - -------------------------------------- 4.2/124.9 MB 848.2 kB/s eta 0:02:23\n",
      "   - -------------------------------------- 4.5/124.9 MB 845.2 kB/s eta 0:02:23\n",
      "   - -------------------------------------- 4.5/124.9 MB 845.2 kB/s eta 0:02:23\n",
      "   - -------------------------------------- 4.7/124.9 MB 844.6 kB/s eta 0:02:23\n",
      "   - -------------------------------------- 5.0/124.9 MB 846.3 kB/s eta 0:02:22\n",
      "   - -------------------------------------- 5.2/124.9 MB 854.9 kB/s eta 0:02:20\n",
      "   - -------------------------------------- 5.5/124.9 MB 863.6 kB/s eta 0:02:19\n",
      "   - -------------------------------------- 5.8/124.9 MB 877.1 kB/s eta 0:02:16\n",
      "   - -------------------------------------- 5.8/124.9 MB 877.1 kB/s eta 0:02:16\n",
      "   - -------------------------------------- 6.0/124.9 MB 883.8 kB/s eta 0:02:15\n",
      "   -- ------------------------------------- 6.3/124.9 MB 892.9 kB/s eta 0:02:13\n",
      "   -- ------------------------------------- 6.6/124.9 MB 902.7 kB/s eta 0:02:12\n",
      "   -- ------------------------------------- 6.8/124.9 MB 911.3 kB/s eta 0:02:10\n",
      "   -- ------------------------------------- 7.1/124.9 MB 920.5 kB/s eta 0:02:09\n",
      "   -- ------------------------------------- 7.3/124.9 MB 933.0 kB/s eta 0:02:07\n",
      "   -- ------------------------------------- 7.6/124.9 MB 945.2 kB/s eta 0:02:05\n",
      "   -- ------------------------------------- 7.9/124.9 MB 949.3 kB/s eta 0:02:04\n",
      "   -- ------------------------------------- 8.1/124.9 MB 956.0 kB/s eta 0:02:03\n",
      "   -- ------------------------------------- 8.7/124.9 MB 980.2 kB/s eta 0:01:59\n",
      "   -- ------------------------------------- 8.9/124.9 MB 992.2 kB/s eta 0:01:57\n",
      "   -- ------------------------------------- 9.2/124.9 MB 1.0 MB/s eta 0:01:56\n",
      "   --- ------------------------------------ 9.4/124.9 MB 1.0 MB/s eta 0:01:55\n",
      "   --- ------------------------------------ 10.0/124.9 MB 1.0 MB/s eta 0:01:52\n",
      "   --- ------------------------------------ 10.2/124.9 MB 1.0 MB/s eta 0:01:51\n",
      "   --- ------------------------------------ 10.5/124.9 MB 1.1 MB/s eta 0:01:49\n",
      "   --- ------------------------------------ 10.7/124.9 MB 1.1 MB/s eta 0:01:48\n",
      "   --- ------------------------------------ 11.0/124.9 MB 1.1 MB/s eta 0:01:48\n",
      "   --- ------------------------------------ 11.3/124.9 MB 1.1 MB/s eta 0:01:47\n",
      "   --- ------------------------------------ 11.8/124.9 MB 1.1 MB/s eta 0:01:45\n",
      "   --- ------------------------------------ 12.1/124.9 MB 1.1 MB/s eta 0:01:44\n",
      "   --- ------------------------------------ 12.3/124.9 MB 1.1 MB/s eta 0:01:43\n",
      "   ---- ----------------------------------- 12.6/124.9 MB 1.1 MB/s eta 0:01:43\n",
      "   ---- ----------------------------------- 12.8/124.9 MB 1.1 MB/s eta 0:01:42\n",
      "   ---- ----------------------------------- 13.1/124.9 MB 1.1 MB/s eta 0:01:41\n",
      "   ---- ----------------------------------- 13.4/124.9 MB 1.1 MB/s eta 0:01:40\n",
      "   ---- ----------------------------------- 13.9/124.9 MB 1.1 MB/s eta 0:01:39\n",
      "   ---- ----------------------------------- 14.2/124.9 MB 1.1 MB/s eta 0:01:39\n",
      "   ---- ----------------------------------- 14.4/124.9 MB 1.1 MB/s eta 0:01:38\n",
      "   ---- ----------------------------------- 14.7/124.9 MB 1.1 MB/s eta 0:01:38\n",
      "   ---- ----------------------------------- 14.9/124.9 MB 1.1 MB/s eta 0:01:37\n",
      "   ---- ----------------------------------- 15.2/124.9 MB 1.1 MB/s eta 0:01:36\n",
      "   ---- ----------------------------------- 15.5/124.9 MB 1.1 MB/s eta 0:01:36\n",
      "   ----- ---------------------------------- 15.7/124.9 MB 1.2 MB/s eta 0:01:35\n",
      "   ----- ---------------------------------- 16.3/124.9 MB 1.2 MB/s eta 0:01:34\n",
      "   ----- ---------------------------------- 16.5/124.9 MB 1.2 MB/s eta 0:01:33\n",
      "   ----- ---------------------------------- 16.8/124.9 MB 1.2 MB/s eta 0:01:33\n",
      "   ----- ---------------------------------- 17.0/124.9 MB 1.2 MB/s eta 0:01:32\n",
      "   ----- ---------------------------------- 17.3/124.9 MB 1.2 MB/s eta 0:01:32\n",
      "   ----- ---------------------------------- 17.6/124.9 MB 1.2 MB/s eta 0:01:31\n",
      "   ----- ---------------------------------- 17.8/124.9 MB 1.2 MB/s eta 0:01:31\n",
      "   ----- ---------------------------------- 18.1/124.9 MB 1.2 MB/s eta 0:01:31\n",
      "   ----- ---------------------------------- 18.6/124.9 MB 1.2 MB/s eta 0:01:30\n",
      "   ------ --------------------------------- 18.9/124.9 MB 1.2 MB/s eta 0:01:29\n",
      "   ------ --------------------------------- 19.4/124.9 MB 1.2 MB/s eta 0:01:28\n",
      "   ------ --------------------------------- 20.2/124.9 MB 1.2 MB/s eta 0:01:25\n",
      "   ------ --------------------------------- 20.7/124.9 MB 1.3 MB/s eta 0:01:23\n",
      "   ------ --------------------------------- 21.5/124.9 MB 1.3 MB/s eta 0:01:21\n",
      "   ------- -------------------------------- 22.3/124.9 MB 1.3 MB/s eta 0:01:18\n",
      "   ------- -------------------------------- 23.1/124.9 MB 1.4 MB/s eta 0:01:16\n",
      "   ------- -------------------------------- 23.9/124.9 MB 1.4 MB/s eta 0:01:14\n",
      "   ------- -------------------------------- 24.6/124.9 MB 1.4 MB/s eta 0:01:12\n",
      "   -------- ------------------------------- 25.2/124.9 MB 1.4 MB/s eta 0:01:10\n",
      "   -------- ------------------------------- 25.7/124.9 MB 1.4 MB/s eta 0:01:10\n",
      "   -------- ------------------------------- 26.0/124.9 MB 1.4 MB/s eta 0:01:09\n",
      "   -------- ------------------------------- 26.5/124.9 MB 1.4 MB/s eta 0:01:08\n",
      "   -------- ------------------------------- 27.0/124.9 MB 1.5 MB/s eta 0:01:08\n",
      "   -------- ------------------------------- 27.5/124.9 MB 1.5 MB/s eta 0:01:07\n",
      "   -------- ------------------------------- 28.0/124.9 MB 1.5 MB/s eta 0:01:06\n",
      "   --------- ------------------------------ 28.6/124.9 MB 1.5 MB/s eta 0:01:05\n",
      "   --------- ------------------------------ 29.4/124.9 MB 1.5 MB/s eta 0:01:03\n",
      "   --------- ------------------------------ 30.4/124.9 MB 1.6 MB/s eta 0:01:01\n",
      "   --------- ------------------------------ 31.2/124.9 MB 1.6 MB/s eta 0:01:00\n",
      "   ---------- ----------------------------- 32.0/124.9 MB 1.6 MB/s eta 0:00:58\n",
      "   ---------- ----------------------------- 33.0/124.9 MB 1.6 MB/s eta 0:00:57\n",
      "   ---------- ----------------------------- 34.1/124.9 MB 1.7 MB/s eta 0:00:55\n",
      "   ----------- ---------------------------- 34.6/124.9 MB 1.7 MB/s eta 0:00:54\n",
      "   ----------- ---------------------------- 35.1/124.9 MB 1.7 MB/s eta 0:00:54\n",
      "   ----------- ---------------------------- 35.7/124.9 MB 1.7 MB/s eta 0:00:53\n",
      "   ----------- ---------------------------- 36.4/124.9 MB 1.7 MB/s eta 0:00:52\n",
      "   ----------- ---------------------------- 37.0/124.9 MB 1.7 MB/s eta 0:00:51\n",
      "   ------------ --------------------------- 37.5/124.9 MB 1.7 MB/s eta 0:00:51\n",
      "   ------------ --------------------------- 38.3/124.9 MB 1.8 MB/s eta 0:00:50\n",
      "   ------------ --------------------------- 38.8/124.9 MB 1.8 MB/s eta 0:00:49\n",
      "   ------------ --------------------------- 39.3/124.9 MB 1.8 MB/s eta 0:00:49\n",
      "   ------------ --------------------------- 39.8/124.9 MB 1.8 MB/s eta 0:00:48\n",
      "   ------------ --------------------------- 40.4/124.9 MB 1.8 MB/s eta 0:00:48\n",
      "   ------------- -------------------------- 40.9/124.9 MB 1.8 MB/s eta 0:00:48\n",
      "   ------------- -------------------------- 41.4/124.9 MB 1.8 MB/s eta 0:00:47\n",
      "   ------------- -------------------------- 42.5/124.9 MB 1.8 MB/s eta 0:00:46\n",
      "   ------------- -------------------------- 43.5/124.9 MB 1.8 MB/s eta 0:00:45\n",
      "   -------------- ------------------------- 44.6/124.9 MB 1.9 MB/s eta 0:00:43\n",
      "   -------------- ------------------------- 45.4/124.9 MB 1.9 MB/s eta 0:00:42\n",
      "   -------------- ------------------------- 46.4/124.9 MB 1.9 MB/s eta 0:00:41\n",
      "   --------------- ------------------------ 47.2/124.9 MB 1.9 MB/s eta 0:00:41\n",
      "   --------------- ------------------------ 48.0/124.9 MB 2.0 MB/s eta 0:00:40\n",
      "   --------------- ------------------------ 49.0/124.9 MB 2.0 MB/s eta 0:00:39\n",
      "   ---------------- ----------------------- 50.1/124.9 MB 2.0 MB/s eta 0:00:38\n",
      "   ---------------- ----------------------- 51.1/124.9 MB 2.0 MB/s eta 0:00:37\n",
      "   ---------------- ----------------------- 51.6/124.9 MB 2.0 MB/s eta 0:00:37\n",
      "   ---------------- ----------------------- 52.4/124.9 MB 2.0 MB/s eta 0:00:36\n",
      "   ----------------- ---------------------- 53.2/124.9 MB 2.1 MB/s eta 0:00:35\n",
      "   ----------------- ---------------------- 54.0/124.9 MB 2.1 MB/s eta 0:00:35\n",
      "   ----------------- ---------------------- 54.8/124.9 MB 2.1 MB/s eta 0:00:34\n",
      "   ----------------- ---------------------- 55.8/124.9 MB 2.1 MB/s eta 0:00:33\n",
      "   ------------------ --------------------- 56.9/124.9 MB 2.1 MB/s eta 0:00:32\n",
      "   ------------------ --------------------- 57.9/124.9 MB 2.2 MB/s eta 0:00:32\n",
      "   ------------------ --------------------- 59.0/124.9 MB 2.2 MB/s eta 0:00:31\n",
      "   ------------------- -------------------- 59.8/124.9 MB 2.2 MB/s eta 0:00:30\n",
      "   ------------------- -------------------- 60.6/124.9 MB 2.2 MB/s eta 0:00:30\n",
      "   ------------------- -------------------- 61.3/124.9 MB 2.2 MB/s eta 0:00:29\n",
      "   ------------------- -------------------- 61.9/124.9 MB 2.2 MB/s eta 0:00:29\n",
      "   -------------------- ------------------- 62.7/124.9 MB 2.2 MB/s eta 0:00:28\n",
      "   -------------------- ------------------- 63.7/124.9 MB 2.2 MB/s eta 0:00:28\n",
      "   -------------------- ------------------- 64.5/124.9 MB 2.3 MB/s eta 0:00:27\n",
      "   -------------------- ------------------- 65.5/124.9 MB 2.3 MB/s eta 0:00:27\n",
      "   --------------------- ------------------ 66.6/124.9 MB 2.3 MB/s eta 0:00:26\n",
      "   --------------------- ------------------ 67.9/124.9 MB 2.3 MB/s eta 0:00:25\n",
      "   --------------------- ------------------ 68.7/124.9 MB 2.3 MB/s eta 0:00:25\n",
      "   ---------------------- ----------------- 69.5/124.9 MB 2.3 MB/s eta 0:00:24\n",
      "   ---------------------- ----------------- 70.5/124.9 MB 2.4 MB/s eta 0:00:23\n",
      "   ---------------------- ----------------- 71.3/124.9 MB 2.4 MB/s eta 0:00:23\n",
      "   ----------------------- ---------------- 72.4/124.9 MB 2.4 MB/s eta 0:00:22\n",
      "   ----------------------- ---------------- 73.4/124.9 MB 2.4 MB/s eta 0:00:22\n",
      "   ----------------------- ---------------- 74.2/124.9 MB 2.5 MB/s eta 0:00:21\n",
      "   ------------------------ --------------- 75.2/124.9 MB 2.5 MB/s eta 0:00:21\n",
      "   ------------------------ --------------- 76.0/124.9 MB 2.5 MB/s eta 0:00:20\n",
      "   ------------------------ --------------- 76.8/124.9 MB 2.5 MB/s eta 0:00:20\n",
      "   ------------------------ --------------- 77.9/124.9 MB 2.5 MB/s eta 0:00:19\n",
      "   ------------------------- -------------- 78.6/124.9 MB 2.6 MB/s eta 0:00:19\n",
      "   ------------------------- -------------- 79.4/124.9 MB 2.6 MB/s eta 0:00:18\n",
      "   ------------------------- -------------- 80.2/124.9 MB 2.6 MB/s eta 0:00:18\n",
      "   ------------------------- -------------- 80.7/124.9 MB 2.6 MB/s eta 0:00:17\n",
      "   -------------------------- ------------- 81.5/124.9 MB 2.6 MB/s eta 0:00:17\n",
      "   -------------------------- ------------- 82.3/124.9 MB 2.7 MB/s eta 0:00:16\n",
      "   -------------------------- ------------- 82.8/124.9 MB 2.7 MB/s eta 0:00:16\n",
      "   -------------------------- ------------- 83.6/124.9 MB 2.7 MB/s eta 0:00:16\n",
      "   --------------------------- ------------ 84.4/124.9 MB 2.7 MB/s eta 0:00:15\n",
      "   --------------------------- ------------ 85.2/124.9 MB 2.7 MB/s eta 0:00:15\n",
      "   --------------------------- ------------ 86.0/124.9 MB 2.8 MB/s eta 0:00:15\n",
      "   --------------------------- ------------ 86.8/124.9 MB 2.8 MB/s eta 0:00:14\n",
      "   --------------------------- ------------ 87.3/124.9 MB 2.8 MB/s eta 0:00:14\n",
      "   ---------------------------- ----------- 88.1/124.9 MB 2.8 MB/s eta 0:00:14\n",
      "   ---------------------------- ----------- 88.9/124.9 MB 2.8 MB/s eta 0:00:13\n",
      "   ---------------------------- ----------- 89.7/124.9 MB 2.9 MB/s eta 0:00:13\n",
      "   ---------------------------- ----------- 90.4/124.9 MB 2.9 MB/s eta 0:00:12\n",
      "   ----------------------------- ---------- 91.2/124.9 MB 2.9 MB/s eta 0:00:12\n",
      "   ----------------------------- ---------- 91.8/124.9 MB 2.9 MB/s eta 0:00:12\n",
      "   ----------------------------- ---------- 92.3/124.9 MB 2.9 MB/s eta 0:00:12\n",
      "   ----------------------------- ---------- 92.8/124.9 MB 2.9 MB/s eta 0:00:11\n",
      "   ----------------------------- ---------- 93.6/124.9 MB 3.0 MB/s eta 0:00:11\n",
      "   ------------------------------ --------- 94.1/124.9 MB 3.0 MB/s eta 0:00:11\n",
      "   ------------------------------ --------- 94.9/124.9 MB 3.0 MB/s eta 0:00:11\n",
      "   ------------------------------ --------- 95.7/124.9 MB 3.0 MB/s eta 0:00:10\n",
      "   ------------------------------ --------- 96.7/124.9 MB 3.0 MB/s eta 0:00:10\n",
      "   ------------------------------- -------- 97.5/124.9 MB 3.0 MB/s eta 0:00:10\n",
      "   ------------------------------- -------- 98.3/124.9 MB 3.1 MB/s eta 0:00:09\n",
      "   ------------------------------- -------- 98.8/124.9 MB 3.1 MB/s eta 0:00:09\n",
      "   ------------------------------- -------- 99.4/124.9 MB 3.1 MB/s eta 0:00:09\n",
      "   ------------------------------- -------- 99.9/124.9 MB 3.1 MB/s eta 0:00:09\n",
      "   -------------------------------- ------- 100.1/124.9 MB 3.1 MB/s eta 0:00:09\n",
      "   -------------------------------- ------- 100.9/124.9 MB 3.1 MB/s eta 0:00:08\n",
      "   -------------------------------- ------- 101.4/124.9 MB 3.1 MB/s eta 0:00:08\n",
      "   -------------------------------- ------- 102.5/124.9 MB 3.1 MB/s eta 0:00:08\n",
      "   -------------------------------- ------- 103.0/124.9 MB 3.1 MB/s eta 0:00:07\n",
      "   --------------------------------- ------ 103.5/124.9 MB 3.1 MB/s eta 0:00:07\n",
      "   --------------------------------- ------ 103.8/124.9 MB 3.1 MB/s eta 0:00:07\n",
      "   --------------------------------- ------ 104.3/124.9 MB 3.2 MB/s eta 0:00:07\n",
      "   --------------------------------- ------ 104.9/124.9 MB 3.2 MB/s eta 0:00:07\n",
      "   --------------------------------- ------ 105.1/124.9 MB 3.2 MB/s eta 0:00:07\n",
      "   --------------------------------- ------ 105.6/124.9 MB 3.2 MB/s eta 0:00:07\n",
      "   --------------------------------- ------ 106.2/124.9 MB 3.2 MB/s eta 0:00:06\n",
      "   ---------------------------------- ----- 106.7/124.9 MB 3.2 MB/s eta 0:00:06\n",
      "   ---------------------------------- ----- 107.0/124.9 MB 3.2 MB/s eta 0:00:06\n",
      "   ---------------------------------- ----- 107.2/124.9 MB 3.2 MB/s eta 0:00:06\n",
      "   ---------------------------------- ----- 107.7/124.9 MB 3.2 MB/s eta 0:00:06\n",
      "   ---------------------------------- ----- 108.5/124.9 MB 3.2 MB/s eta 0:00:06\n",
      "   ---------------------------------- ----- 109.1/124.9 MB 3.2 MB/s eta 0:00:05\n",
      "   ----------------------------------- ---- 110.1/124.9 MB 3.2 MB/s eta 0:00:05\n",
      "   ----------------------------------- ---- 110.6/124.9 MB 3.2 MB/s eta 0:00:05\n",
      "   ----------------------------------- ---- 111.1/124.9 MB 3.2 MB/s eta 0:00:05\n",
      "   ----------------------------------- ---- 111.7/124.9 MB 3.3 MB/s eta 0:00:05\n",
      "   ----------------------------------- ---- 112.2/124.9 MB 3.3 MB/s eta 0:00:04\n",
      "   ------------------------------------ --- 112.7/124.9 MB 3.3 MB/s eta 0:00:04\n",
      "   ------------------------------------ --- 113.5/124.9 MB 3.3 MB/s eta 0:00:04\n",
      "   ------------------------------------ --- 114.3/124.9 MB 3.3 MB/s eta 0:00:04\n",
      "   ------------------------------------ --- 115.1/124.9 MB 3.3 MB/s eta 0:00:03\n",
      "   ------------------------------------- -- 115.9/124.9 MB 3.3 MB/s eta 0:00:03\n",
      "   ------------------------------------- -- 116.4/124.9 MB 3.3 MB/s eta 0:00:03\n",
      "   ------------------------------------- -- 117.2/124.9 MB 3.4 MB/s eta 0:00:03\n",
      "   ------------------------------------- -- 118.2/124.9 MB 3.4 MB/s eta 0:00:02\n",
      "   -------------------------------------- - 119.0/124.9 MB 3.4 MB/s eta 0:00:02\n",
      "   -------------------------------------- - 119.5/124.9 MB 3.4 MB/s eta 0:00:02\n",
      "   -------------------------------------- - 120.6/124.9 MB 3.4 MB/s eta 0:00:02\n",
      "   -------------------------------------- - 121.4/124.9 MB 3.5 MB/s eta 0:00:02\n",
      "   ---------------------------------------  122.2/124.9 MB 3.5 MB/s eta 0:00:01\n",
      "   ---------------------------------------  122.9/124.9 MB 3.5 MB/s eta 0:00:01\n",
      "   ---------------------------------------  123.7/124.9 MB 3.5 MB/s eta 0:00:01\n",
      "   ---------------------------------------  124.5/124.9 MB 3.5 MB/s eta 0:00:01\n",
      "   ---------------------------------------  124.8/124.9 MB 3.5 MB/s eta 0:00:01\n",
      "   ---------------------------------------- 124.9/124.9 MB 3.5 MB/s eta 0:00:00\n",
      "Installing collected packages: xgboost\n",
      "Successfully installed xgboost-2.1.2\n",
      "Note: you may need to restart the kernel to use updated packages.\n"
     ]
    }
   ],
   "source": [
    "pip install xgboost"
   ]
  },
  {
   "cell_type": "code",
   "execution_count": null,
   "id": "49127dd4-4412-4101-986f-ff0ade551e4e",
   "metadata": {},
   "outputs": [],
   "source": []
  }
 ],
 "metadata": {
  "kernelspec": {
   "display_name": "Python 3 (ipykernel)",
   "language": "python",
   "name": "python3"
  },
  "language_info": {
   "codemirror_mode": {
    "name": "ipython",
    "version": 3
   },
   "file_extension": ".py",
   "mimetype": "text/x-python",
   "name": "python",
   "nbconvert_exporter": "python",
   "pygments_lexer": "ipython3",
   "version": "3.13.0"
  }
 },
 "nbformat": 4,
 "nbformat_minor": 5
}
